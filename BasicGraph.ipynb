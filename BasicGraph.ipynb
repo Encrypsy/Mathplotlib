{
 "cells": [
  {
   "cell_type": "markdown",
   "id": "c3903ee9-ab1f-4ae7-8bbc-e1d138eeab48",
   "metadata": {},
   "source": [
    "# Mathplotlib - O1\n",
    "By. Malya Maritza"
   ]
  },
  {
   "cell_type": "markdown",
   "id": "8fac17dc-bb49-48f5-aa3c-1d128d1c714e",
   "metadata": {},
   "source": [
    "## Import Library ke codingan"
   ]
  },
  {
   "cell_type": "code",
   "execution_count": 7,
   "id": "02409893-5077-450d-ac8d-7afebda2bec6",
   "metadata": {},
   "outputs": [],
   "source": [
    "import matplotlib.pyplot as math"
   ]
  },
  {
   "cell_type": "markdown",
   "id": "a5e10dea-2603-4310-9580-6421ee352e40",
   "metadata": {},
   "source": []
  }
 ],
 "metadata": {
  "kernelspec": {
   "display_name": "Python 3 (ipykernel)",
   "language": "python",
   "name": "python3"
  },
  "language_info": {
   "codemirror_mode": {
    "name": "ipython",
    "version": 3
   },
   "file_extension": ".py",
   "mimetype": "text/x-python",
   "name": "python",
   "nbconvert_exporter": "python",
   "pygments_lexer": "ipython3",
   "version": "3.11.9"
  }
 },
 "nbformat": 4,
 "nbformat_minor": 5
}
